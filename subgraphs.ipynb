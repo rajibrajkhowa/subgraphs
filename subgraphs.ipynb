{
 "cells": [
  {
   "cell_type": "code",
   "execution_count": null,
   "id": "c0b1acde",
   "metadata": {},
   "outputs": [],
   "source": [
    "import networkx as nx\n",
    "import matplotlib.pyplot as plt\n",
    "import random as rnd\n",
    "import math\n",
    "\n",
    "# Super Graph - Uncomment the desired graph generator and see for yourself the cool visualizations\n",
    "# G = nx.complete_graph(6)             # Complete graph generator\n",
    "# G = nx.gnp_random_graph(6,0.87)      # Random graph generator\n",
    "# G = nx.hypercube_graph(4)            # Hypercube graph generator\n",
    "# G = nx.hexagonal_lattice_graph(1,3)  # Hexagonal Lattice graph generator\n",
    "\n",
    "\n",
    "# Define few parameters to help induce biased probability and bit of randomness into the visualization\n",
    "V = G.nodes()\n",
    "E = G.edges()\n",
    "x = len(E)\n",
    "y = len(V)\n",
    "p = rnd.randint(0,math.floor((x-1)/4))\n",
    "q = rnd.randint(math.ceil((x-1)/2),(x-1))\n",
    "r = rnd.randint(0,math.floor((y-1)/2))\n",
    "s = rnd.randint(math.ceil((y-1)/2),(y-1))\n",
    "\n",
    "# Spanning Subgraph\n",
    "H = nx.Graph()\n",
    "R = list(E)[p:q]\n",
    "print(\"The list of edges selected randomly for creating spanning subgraph is:\\n\", R,\"\\n\")\n",
    "H.add_nodes_from(V)\n",
    "H.add_edges_from(R)\n",
    "\n",
    "\n",
    "# Induced Subgraph\n",
    "S = list(V)[r:s]\n",
    "print(\"The list of nodes selected randomly for creating induced subgraph is:\\n\", S,\"\\n\")\n",
    "I = nx.induced_subgraph(G,S)\n",
    "\n",
    "\n",
    "# Display the graphs\n",
    "plt.figure(figsize=(9,3))\n",
    "plt.subplot(131)\n",
    "nx.draw(G, with_labels=1)\n",
    "plt.subplot(132)\n",
    "nx.draw(H, with_labels=1)\n",
    "plt.subplot(133)\n",
    "nx.draw(I, with_labels=1)\n",
    "plt.show()"
   ]
  }
 ],
 "metadata": {
  "kernelspec": {
   "display_name": "Python 3 (ipykernel)",
   "language": "python",
   "name": "python3"
  },
  "language_info": {
   "codemirror_mode": {
    "name": "ipython",
    "version": 3
   },
   "file_extension": ".py",
   "mimetype": "text/x-python",
   "name": "python",
   "nbconvert_exporter": "python",
   "pygments_lexer": "ipython3",
   "version": "3.9.13"
  }
 },
 "nbformat": 4,
 "nbformat_minor": 5
}
